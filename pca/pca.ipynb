{
 "cells": [
  {
   "cell_type": "markdown",
   "metadata": {},
   "source": [
    "# Faces recognition example\n",
    "The dataset used in this example is a preprocessed excerpt of the\n",
    "\"Labeled Faces in the Wild\", aka LFW_:\n",
    "\n",
    "  http://vis-www.cs.umass.edu/lfw/lfw-funneled.tgz (233MB)\n",
    "\n",
    "  .. _LFW: http://vis-www.cs.umass.edu/lfw/\n",
    "\n",
    "  original source: http://scikit-learn.org/stable/auto_examples/applications/face_recognition.html"
   ]
  },
  {
   "cell_type": "code",
   "execution_count": 8,
   "metadata": {
    "collapsed": false
   },
   "outputs": [],
   "source": [
    "from time import time\n",
    "import logging\n",
    "import pylab as pl\n",
    "import numpy as np\n",
    "\n",
    "from sklearn.model_selection import train_test_split\n",
    "from sklearn.datasets import fetch_lfw_people\n",
    "from sklearn.model_selection import GridSearchCV\n",
    "from sklearn.metrics import classification_report\n",
    "from sklearn.metrics import confusion_matrix\n",
    "from sklearn.decomposition import PCA\n",
    "from sklearn.svm import SVC\n",
    "logging.basicConfig(level=logging.INFO, format='%(asctime)s %(message)s')"
   ]
  },
  {
   "cell_type": "code",
   "execution_count": 2,
   "metadata": {
    "collapsed": false
   },
   "outputs": [
    {
     "name": "stderr",
     "output_type": "stream",
     "text": [
      "2016-12-27 14:30:08,444 Loading LFW people faces from /home/rad/scikit_learn_data/lfw_home\n"
     ]
    }
   ],
   "source": [
    "# Download the data, if not already on disk and load it as numpy arrays\n",
    "lfw_people = fetch_lfw_people(min_faces_per_person=70, resize=0.4)"
   ]
  },
  {
   "cell_type": "code",
   "execution_count": 3,
   "metadata": {
    "collapsed": true
   },
   "outputs": [],
   "source": [
    "# introspect the images arrays to find the shapes (for plotting)\n",
    "n_samples, h, w = lfw_people.images.shape\n",
    "np.random.seed(42)"
   ]
  },
  {
   "cell_type": "code",
   "execution_count": 4,
   "metadata": {
    "collapsed": true
   },
   "outputs": [],
   "source": [
    "# for machine learning we use the data directly (as relative pixel\n",
    "# position info is ignored by this model)\n",
    "X = lfw_people.data\n",
    "n_features = X.shape[1]"
   ]
  },
  {
   "cell_type": "code",
   "execution_count": 5,
   "metadata": {
    "collapsed": false
   },
   "outputs": [
    {
     "name": "stdout",
     "output_type": "stream",
     "text": [
      "Total dataset size:\n",
      "n_samples: 1288\n",
      "n_features: 1850\n",
      "n_classes: 7\n"
     ]
    }
   ],
   "source": [
    "# the label to predict is the id of the person\n",
    "y = lfw_people.target\n",
    "target_names = lfw_people.target_names\n",
    "n_classes = target_names.shape[0]\n",
    "\n",
    "print \"Total dataset size:\"\n",
    "print \"n_samples: %d\" % n_samples\n",
    "print \"n_features: %d\" % n_features\n",
    "print \"n_classes: %d\" % n_classes"
   ]
  },
  {
   "cell_type": "code",
   "execution_count": null,
   "metadata": {
    "collapsed": true
   },
   "outputs": [],
   "source": [
    "# Split into a training and testing set\n",
    "X_train, X_test, y_train, y_test = train_test_split(X, y, test_size=0.25, random_state=42)"
   ]
  },
  {
   "cell_type": "code",
   "execution_count": 19,
   "metadata": {
    "collapsed": false
   },
   "outputs": [],
   "source": [
    "# Compute a PCA (eigenfaces) on the face dataset (treated as unlabeled\n",
    "# dataset): unsupervised feature extraction / dimensionality reduction\n",
    "def extract_faces(X_train, X_test, y_train, y_test, n_components = 150):\n",
    "    print \"Extracting the top %d eigenfaces from %d faces\" % (n_components, X_train.shape[0])\n",
    "    t0 = time()\n",
    "    pca = PCA(svd_solver='randomized',n_components=n_components, whiten=True).fit(X_train)\n",
    "    print \"done in %0.3fs\" % (time() - t0)\n",
    "\n",
    "    eigenfaces = pca.components_.reshape((n_components, h, w))\n",
    "\n",
    "    print \"Projecting the input data on the eigenfaces orthonormal basis\"\n",
    "    t0 = time()\n",
    "    X_train_pca = pca.transform(X_train)\n",
    "    X_test_pca = pca.transform(X_test)\n",
    "    print \"done in %0.3fs\" % (time() - t0)\n",
    "\n",
    "    # Train a SVM classification model\n",
    "\n",
    "    print \"Fitting the classifier to the training set\"\n",
    "    t0 = time()\n",
    "    param_grid = {\n",
    "             'C': [1e3, 5e3, 1e4, 5e4, 1e5],\n",
    "              'gamma': [0.0001, 0.0005, 0.001, 0.005, 0.01, 0.1],\n",
    "              }\n",
    "    # for sklearn version 0.16 or prior, the class_weight parameter value is 'auto'\n",
    "    clf = GridSearchCV(SVC(kernel='rbf', class_weight='balanced'), param_grid)\n",
    "    clf = clf.fit(X_train_pca, y_train)\n",
    "    print \"done in %0.3fs\" % (time() - t0)\n",
    "#     print \"Best estimator found by grid search:\"\n",
    "#     print clf.best_estimator_\n",
    "    return clf, X_train_pca, X_test_pca"
   ]
  },
  {
   "cell_type": "code",
   "execution_count": 17,
   "metadata": {
    "collapsed": false
   },
   "outputs": [
    {
     "data": {
      "text/plain": [
       "array([ 0.18880161,  0.14976933])"
      ]
     },
     "execution_count": 17,
     "metadata": {},
     "output_type": "execute_result"
    }
   ],
   "source": [
    "#How much variance is explained by the first two principal components?\n",
    "pca.explained_variance_ratio_[:2]"
   ]
  },
  {
   "cell_type": "code",
   "execution_count": 20,
   "metadata": {
    "collapsed": false
   },
   "outputs": [],
   "source": [
    "def predict_faces(clf, X_test_pca, y_test):\n",
    "    print \"Predicting the people names on the testing set\"\n",
    "    t0 = time()\n",
    "    y_pred = clf.predict(X_test_pca)\n",
    "    print \"done in %0.3fs\" % (time() - t0)\n",
    "\n",
    "    print classification_report(y_test, y_pred, target_names=target_names)\n",
    "    print confusion_matrix(y_test, y_pred, labels=range(n_classes))"
   ]
  },
  {
   "cell_type": "code",
   "execution_count": 21,
   "metadata": {
    "collapsed": false
   },
   "outputs": [
    {
     "name": "stdout",
     "output_type": "stream",
     "text": [
      "Extracting the top 10 eigenfaces from 966 faces\n",
      "done in 0.201s\n",
      "Projecting the input data on the eigenfaces orthonormal basis\n",
      "done in 0.041s\n",
      "Fitting the classifier to the training set\n",
      "done in 50.101s\n",
      "Predicting the people names on the testing set\n",
      "done in 0.014s\n",
      "                   precision    recall  f1-score   support\n",
      "\n",
      "     Ariel Sharon       0.16      0.23      0.19        13\n",
      "     Colin Powell       0.47      0.52      0.49        60\n",
      "  Donald Rumsfeld       0.30      0.37      0.33        27\n",
      "    George W Bush       0.59      0.53      0.56       146\n",
      "Gerhard Schroeder       0.12      0.12      0.12        25\n",
      "      Hugo Chavez       0.27      0.27      0.27        15\n",
      "       Tony Blair       0.27      0.22      0.24        36\n",
      "\n",
      "      avg / total       0.44      0.43      0.43       322\n",
      "\n",
      "[[ 3  5  0  5  0  0  0]\n",
      " [ 5 31  6 13  3  0  2]\n",
      " [ 3  5 10  6  2  0  1]\n",
      " [ 5 18 10 78 11 10 14]\n",
      " [ 1  2  4 11  3  1  3]\n",
      " [ 0  1  0  6  2  4  2]\n",
      " [ 2  4  3 14  5  0  8]]\n",
      "Extracting the top 15 eigenfaces from 966 faces\n",
      "done in 0.163s\n",
      "Projecting the input data on the eigenfaces orthonormal basis\n",
      "done in 0.022s\n",
      "Fitting the classifier to the training set\n",
      "done in 17.736s\n",
      "Predicting the people names on the testing set\n",
      "done in 0.016s\n",
      "                   precision    recall  f1-score   support\n",
      "\n",
      "     Ariel Sharon       0.20      0.15      0.17        13\n",
      "     Colin Powell       0.61      0.62      0.61        60\n",
      "  Donald Rumsfeld       0.57      0.48      0.52        27\n",
      "    George W Bush       0.67      0.77      0.72       146\n",
      "Gerhard Schroeder       0.40      0.24      0.30        25\n",
      "      Hugo Chavez       0.58      0.47      0.52        15\n",
      "       Tony Blair       0.47      0.44      0.46        36\n",
      "\n",
      "      avg / total       0.58      0.60      0.59       322\n",
      "\n",
      "[[  2   7   1   3   0   0   0]\n",
      " [  3  37   2  17   0   0   1]\n",
      " [  3   2  13   7   2   0   0]\n",
      " [  1  13   6 112   4   3   7]\n",
      " [  0   0   1   8   6   2   8]\n",
      " [  0   0   0   4   2   7   2]\n",
      " [  1   2   0  16   1   0  16]]\n",
      "Extracting the top 25 eigenfaces from 966 faces\n",
      "done in 0.162s\n",
      "Projecting the input data on the eigenfaces orthonormal basis\n",
      "done in 0.036s\n",
      "Fitting the classifier to the training set\n",
      "done in 10.329s\n",
      "Predicting the people names on the testing set\n",
      "done in 0.015s\n",
      "                   precision    recall  f1-score   support\n",
      "\n",
      "     Ariel Sharon       0.45      0.69      0.55        13\n",
      "     Colin Powell       0.76      0.73      0.75        60\n",
      "  Donald Rumsfeld       0.63      0.63      0.63        27\n",
      "    George W Bush       0.84      0.86      0.85       146\n",
      "Gerhard Schroeder       0.41      0.36      0.38        25\n",
      "      Hugo Chavez       0.59      0.67      0.62        15\n",
      "       Tony Blair       0.52      0.42      0.46        36\n",
      "\n",
      "      avg / total       0.71      0.71      0.71       322\n",
      "\n",
      "[[  9   1   1   2   0   0   0]\n",
      " [  4  44   2   5   0   2   3]\n",
      " [  4   0  17   4   2   0   0]\n",
      " [  2   8   4 125   2   2   3]\n",
      " [  1   0   2   6   9   1   6]\n",
      " [  0   0   0   0   3  10   2]\n",
      " [  0   5   1   7   6   2  15]]\n",
      "Extracting the top 50 eigenfaces from 966 faces\n",
      "done in 0.260s\n",
      "Projecting the input data on the eigenfaces orthonormal basis\n",
      "done in 0.021s\n",
      "Fitting the classifier to the training set\n",
      "done in 10.824s\n",
      "Predicting the people names on the testing set\n",
      "done in 0.026s\n",
      "                   precision    recall  f1-score   support\n",
      "\n",
      "     Ariel Sharon       0.58      0.85      0.69        13\n",
      "     Colin Powell       0.87      0.90      0.89        60\n",
      "  Donald Rumsfeld       0.79      0.70      0.75        27\n",
      "    George W Bush       0.91      0.92      0.91       146\n",
      "Gerhard Schroeder       0.79      0.88      0.83        25\n",
      "      Hugo Chavez       1.00      0.80      0.89        15\n",
      "       Tony Blair       0.90      0.75      0.82        36\n",
      "\n",
      "      avg / total       0.87      0.87      0.87       322\n",
      "\n",
      "[[ 11   2   0   0   0   0   0]\n",
      " [  2  54   0   1   1   0   2]\n",
      " [  2   0  19   6   0   0   0]\n",
      " [  2   5   4 134   1   0   0]\n",
      " [  1   0   0   1  22   0   1]\n",
      " [  0   0   0   0   3  12   0]\n",
      " [  1   1   1   5   1   0  27]]\n",
      "Extracting the top 100 eigenfaces from 966 faces\n",
      "done in 0.279s\n",
      "Projecting the input data on the eigenfaces orthonormal basis\n",
      "done in 0.028s\n",
      "Fitting the classifier to the training set\n",
      "done in 20.550s\n",
      "Predicting the people names on the testing set\n",
      "done in 0.048s\n",
      "                   precision    recall  f1-score   support\n",
      "\n",
      "     Ariel Sharon       0.92      0.85      0.88        13\n",
      "     Colin Powell       0.81      0.90      0.85        60\n",
      "  Donald Rumsfeld       0.78      0.78      0.78        27\n",
      "    George W Bush       0.91      0.93      0.92       146\n",
      "Gerhard Schroeder       0.84      0.84      0.84        25\n",
      "      Hugo Chavez       0.85      0.73      0.79        15\n",
      "       Tony Blair       0.90      0.72      0.80        36\n",
      "\n",
      "      avg / total       0.87      0.87      0.87       322\n",
      "\n",
      "[[ 11   2   0   0   0   0   0]\n",
      " [  0  54   1   3   0   1   1]\n",
      " [  0   1  21   4   0   1   0]\n",
      " [  1   7   2 136   0   0   0]\n",
      " [  0   0   1   2  21   0   1]\n",
      " [  0   1   0   1   1  11   1]\n",
      " [  0   2   2   3   3   0  26]]\n",
      "Extracting the top 250 eigenfaces from 966 faces\n",
      "done in 0.535s\n",
      "Projecting the input data on the eigenfaces orthonormal basis\n",
      "done in 0.045s\n",
      "Fitting the classifier to the training set\n",
      "done in 51.492s\n",
      "Predicting the people names on the testing set\n",
      "done in 0.112s\n",
      "                   precision    recall  f1-score   support\n",
      "\n",
      "     Ariel Sharon       0.62      0.77      0.69        13\n",
      "     Colin Powell       0.78      0.87      0.82        60\n",
      "  Donald Rumsfeld       0.86      0.67      0.75        27\n",
      "    George W Bush       0.88      0.91      0.90       146\n",
      "Gerhard Schroeder       0.83      0.80      0.82        25\n",
      "      Hugo Chavez       0.77      0.67      0.71        15\n",
      "       Tony Blair       0.90      0.75      0.82        36\n",
      "\n",
      "      avg / total       0.84      0.84      0.84       322\n",
      "\n",
      "[[ 10   2   0   1   0   0   0]\n",
      " [  1  52   0   5   1   1   0]\n",
      " [  1   1  18   5   1   1   0]\n",
      " [  4   7   0 133   1   1   0]\n",
      " [  0   0   2   2  20   0   1]\n",
      " [  0   1   0   1   1  10   2]\n",
      " [  0   4   1   4   0   0  27]]\n"
     ]
    }
   ],
   "source": [
    "for n_components in [10, 15, 25, 50, 100, 250]:\n",
    "    clf, X_train_pca, X_test_pca = extract_faces(X_train, X_test, y_train, y_test, n_components = n_components)\n",
    "    predict_faces(clf, X_test_pca, y_test)"
   ]
  },
  {
   "cell_type": "code",
   "execution_count": null,
   "metadata": {
    "collapsed": true
   },
   "outputs": [],
   "source": []
  }
 ],
 "metadata": {
  "kernelspec": {
   "display_name": "Python 2",
   "language": "python",
   "name": "python2"
  },
  "language_info": {
   "codemirror_mode": {
    "name": "ipython",
    "version": 2
   },
   "file_extension": ".py",
   "mimetype": "text/x-python",
   "name": "python",
   "nbconvert_exporter": "python",
   "pygments_lexer": "ipython2",
   "version": "2.7.12"
  }
 },
 "nbformat": 4,
 "nbformat_minor": 2
}
