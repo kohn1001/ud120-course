{
 "cells": [
  {
   "cell_type": "code",
   "execution_count": 1,
   "metadata": {
    "collapsed": true
   },
   "outputs": [],
   "source": [
    "from nltk.corpus import stopwords"
   ]
  },
  {
   "cell_type": "code",
   "execution_count": 3,
   "metadata": {
    "collapsed": false
   },
   "outputs": [
    {
     "name": "stdout",
     "output_type": "stream",
     "text": [
      "There are 153 stopwords\n"
     ]
    }
   ],
   "source": [
    "sw = stopwords.words(\"english\")\n",
    "print \"There are\", len(sw), \"stopwords\""
   ]
  },
  {
   "cell_type": "code",
   "execution_count": 4,
   "metadata": {
    "collapsed": false
   },
   "outputs": [
    {
     "data": {
      "text/plain": [
       "u'respons'"
      ]
     },
     "execution_count": 4,
     "metadata": {},
     "output_type": "execute_result"
    }
   ],
   "source": [
    "from nltk.stem.snowball import SnowballStemmer\n",
    "stemmer = SnowballStemmer(\"english\")\n",
    "stemmer.stem(\"responsiveness\")"
   ]
  },
  {
   "cell_type": "code",
   "execution_count": 5,
   "metadata": {
    "collapsed": false
   },
   "outputs": [
    {
     "name": "stdout",
     "output_type": "stream",
     "text": [
      "respons\n",
      "unrespons\n"
     ]
    }
   ],
   "source": [
    "print stemmer.stem(\"responsivity\")\n",
    "print stemmer.stem(\"unresponsive\")"
   ]
  },
  {
   "cell_type": "code",
   "execution_count": 6,
   "metadata": {
    "collapsed": true
   },
   "outputs": [],
   "source": [
    "import sys\n",
    "sys.path.append('../tools/')"
   ]
  },
  {
   "cell_type": "code",
   "execution_count": 9,
   "metadata": {
    "collapsed": false
   },
   "outputs": [
    {
     "name": "stdout",
     "output_type": "stream",
     "text": [
      "\n",
      "\n",
      "Hi Everyone  If you can read this message youre properly using parseOutText  Please proceed to the next part of the project\n",
      "\n"
     ]
    }
   ],
   "source": [
    "run ../tools/parse_out_email_text.py"
   ]
  },
  {
   "cell_type": "code",
   "execution_count": 11,
   "metadata": {
    "collapsed": false
   },
   "outputs": [],
   "source": [
    "# Deploying Stemming\n",
    "from nltk.stem.snowball import SnowballStemmer\n",
    "import string\n",
    "\n",
    "def parseOutText(f, stemming = False):\n",
    "    \"\"\" given an opened email file f, parse out all text below the\n",
    "        metadata block at the top\n",
    "        (in Part 2, you will also add stemming capabilities)\n",
    "        and return a string that contains all the words\n",
    "        in the email (space-separated) \n",
    "        \n",
    "        example use case:\n",
    "        f = open(\"email_file_name.txt\", \"r\")\n",
    "        text = parseOutText(f)\n",
    "        \n",
    "        \"\"\"\n",
    "\n",
    "\n",
    "    f.seek(0)  ### go back to beginning of file (annoying)\n",
    "    all_text = f.read()\n",
    "\n",
    "    ### split off metadata\n",
    "    content = all_text.split(\"X-FileName:\")\n",
    "    words = \"\"\n",
    "    if len(content) > 1:\n",
    "        ### remove punctuation\n",
    "        text_string = content[1].translate(string.maketrans(\"\", \"\"), string.punctuation)\n",
    "\n",
    "        if stemming:\n",
    "            ### split the text string into individual words, stem each word,\n",
    "            ### and append the stemmed word to words (make sure there's a single\n",
    "            ### space between each stemmed word)\n",
    "            text_split = text_string.split()\n",
    "            stemmer = SnowballStemmer(\"english\")\n",
    "            for word in text_split:\n",
    "                words += stemmer.stem(word) + ' '\n",
    "        else:\n",
    "            ### project part 2: comment out the line below\n",
    "            words = text_string\n",
    "\n",
    "    return words"
   ]
  },
  {
   "cell_type": "code",
   "execution_count": 12,
   "metadata": {
    "collapsed": true
   },
   "outputs": [],
   "source": [
    "ff = open(\"test_email.txt\", \"r\")\n",
    "text = parseOutText(ff, stemming=True)"
   ]
  },
  {
   "cell_type": "code",
   "execution_count": 13,
   "metadata": {
    "collapsed": false
   },
   "outputs": [
    {
     "name": "stdout",
     "output_type": "stream",
     "text": [
      "hi everyon if you can read this messag your proper use parseouttext pleas proceed to the next part of the project \n"
     ]
    }
   ],
   "source": [
    "print text"
   ]
  },
  {
   "cell_type": "markdown",
   "metadata": {},
   "source": [
    "## Clean Away \"Signature Words\"\n",
    "Parsing emails from Chris and Sara, getting stemmed text strings and then removing signature words"
   ]
  },
  {
   "cell_type": "code",
   "execution_count": null,
   "metadata": {
    "collapsed": true
   },
   "outputs": [],
   "source": [
    "import os\n",
    "import pickle\n",
    "import re"
   ]
  },
  {
   "cell_type": "code",
   "execution_count": 33,
   "metadata": {
    "collapsed": true
   },
   "outputs": [],
   "source": [
    "\"\"\"\n",
    "    Starter code to process the emails from Sara and Chris to extract\n",
    "    the features and get the documents ready for classification.\n",
    "\n",
    "    The list of all the emails from Sara are in the from_sara list\n",
    "    likewise for emails from Chris (from_chris)\n",
    "\n",
    "    The actual documents are in the Enron email dataset, which\n",
    "    you downloaded/unpacked in Part 0 of the first mini-project. If you have\n",
    "    not obtained the Enron email corpus, run startup.py in the tools folder.\n",
    "\n",
    "    The data is stored in lists and packed away in pickle files at the end.\n",
    "\"\"\"\n",
    "\n",
    "def process_emails(fullSet=False):\n",
    "\n",
    "    with open(\"from_sara.txt\", \"r\") as from_sara, open(\"from_chris.txt\", \"r\") as from_chris:\n",
    "        from_data = []\n",
    "        word_data = []\n",
    "\n",
    "        ### temp_counter is a way to speed up the development--there are\n",
    "        ### thousands of emails from Sara and Chris, so running over all of them\n",
    "        ### can take a long time\n",
    "        ### temp_counter helps you only look at the first 200 emails in the list so you\n",
    "        ### can iterate your modifications quicker\n",
    "        temp_counter = 0\n",
    "\n",
    "        name_codes = {\"sara\":0,\"chris\":1}\n",
    "\n",
    "        for name, from_person in [(\"sara\", from_sara), (\"chris\", from_chris)]:\n",
    "            for path in from_person:\n",
    "                ### only look at first 200 emails when developing\n",
    "                ### once everything is working, remove this line to run over full dataset\n",
    "                temp_counter += 1\n",
    "                if fullSet or temp_counter < 200:\n",
    "                    #Adding extra level because maildir is not in my project folder\n",
    "                    path = os.path.join('../..', path[:-1])\n",
    "                    print path\n",
    "                    with open(path, \"r\") as email:\n",
    "                        email_text = parseOutText(email, stemming=True)\n",
    "\n",
    "                        for replace_word in [\"sara\", \"shackleton\", \"chris\", \"germani\"]:\n",
    "                            email_text = email_text.replace(replace_word,'')\n",
    "                        ### use str.replace() to remove any instances of the words\n",
    "                        ### [\"sara\", \"shackleton\", \"chris\", \"germani\"]\n",
    "\n",
    "                        ### append the text to word_data\n",
    "                        word_data.append(email_text)\n",
    "\n",
    "                        ### append a 0 to from_data if email is from Sara, and 1 if email is from Chris\n",
    "                        from_data.append(name_codes[name])\n",
    "\n",
    "\n",
    "    print \"emails processed\"\n",
    "    return word_data, from_data\n",
    "\n",
    "pickle.dump( word_data, open(\"your_word_data.pkl\", \"w\") )\n",
    "pickle.dump( from_data, open(\"your_email_authors.pkl\", \"w\") )"
   ]
  },
  {
   "cell_type": "code",
   "execution_count": 32,
   "metadata": {
    "collapsed": false
   },
   "outputs": [
    {
     "name": "stdout",
     "output_type": "stream",
     "text": [
      "tjonesnsf stephani and sam need nymex calendar \n"
     ]
    }
   ],
   "source": [
    "print(word_data[152])"
   ]
  },
  {
   "cell_type": "markdown",
   "metadata": {},
   "source": [
    "## TfIdf It\n",
    "Removing English stopwords from emails and then transforming into a tf-idf matrix"
   ]
  },
  {
   "cell_type": "code",
   "execution_count": 17,
   "metadata": {
    "collapsed": true
   },
   "outputs": [],
   "source": [
    "from sklearn.feature_extraction.text import TfidfVectorizer"
   ]
  },
  {
   "cell_type": "code",
   "execution_count": null,
   "metadata": {
    "collapsed": true
   },
   "outputs": [],
   "source": [
    "word_data, from_data = processEmails(fullset=True)"
   ]
  },
  {
   "cell_type": "code",
   "execution_count": 30,
   "metadata": {
    "collapsed": false
   },
   "outputs": [
    {
     "data": {
      "text/plain": [
       "<17578x38757 sparse matrix of type '<type 'numpy.float64'>'\n",
       "\twith 1078821 stored elements in Compressed Sparse Row format>"
      ]
     },
     "execution_count": 30,
     "metadata": {},
     "output_type": "execute_result"
    }
   ],
   "source": [
    "tfidf = TfidfVectorizer(stop_words='english')\n",
    "tfidf.fit_transform(word_data)"
   ]
  },
  {
   "cell_type": "code",
   "execution_count": 31,
   "metadata": {
    "collapsed": false
   },
   "outputs": [
    {
     "data": {
      "text/plain": [
       "38757"
      ]
     },
     "execution_count": 31,
     "metadata": {},
     "output_type": "execute_result"
    }
   ],
   "source": [
    "print \"The number of unique words in the emails is\", len(tfidf.get_feature_names())"
   ]
  },
  {
   "cell_type": "markdown",
   "metadata": {},
   "source": [
    "## Accessing TfIdf Features\n",
    "Getting a particular word from the list of unique words"
   ]
  },
  {
   "cell_type": "code",
   "execution_count": 37,
   "metadata": {
    "collapsed": false
   },
   "outputs": [
    {
     "name": "stdout",
     "output_type": "stream",
     "text": [
      "stephaniethank\n"
     ]
    }
   ],
   "source": [
    "word_list = tfidf.get_feature_names()\n",
    "print word_list[34597]"
   ]
  }
 ],
 "metadata": {
  "kernelspec": {
   "display_name": "Python 2",
   "language": "python",
   "name": "python2"
  },
  "language_info": {
   "codemirror_mode": {
    "name": "ipython",
    "version": 2
   },
   "file_extension": ".py",
   "mimetype": "text/x-python",
   "name": "python",
   "nbconvert_exporter": "python",
   "pygments_lexer": "ipython2",
   "version": "2.7.12"
  }
 },
 "nbformat": 4,
 "nbformat_minor": 2
}
