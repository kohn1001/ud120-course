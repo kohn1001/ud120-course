{
 "cells": [
  {
   "cell_type": "markdown",
   "metadata": {},
   "source": [
    "# Outliers\n",
    "Identifying and removing outliers in linear regression\n",
    "## Net Worth Problem Revisited"
   ]
  },
  {
   "cell_type": "code",
   "execution_count": 1,
   "metadata": {
    "collapsed": false,
    "scrolled": true
   },
   "outputs": [
    {
     "name": "stderr",
     "output_type": "stream",
     "text": [
      "/home/rad/ml_week_py2/local/lib/python2.7/site-packages/sklearn/cross_validation.py:44: DeprecationWarning: This module was deprecated in version 0.18 in favor of the model_selection module into which all the refactored classes and functions are moved. Also note that the interface of the new CV iterators are different from that of this module. This module will be removed in 0.20.\n",
      "  \"This module will be removed in 0.20.\", DeprecationWarning)\n"
     ]
    }
   ],
   "source": [
    "#imports\n",
    "import random\n",
    "import numpy\n",
    "import matplotlib.pyplot as plt\n",
    "%matplotlib inline\n",
    "import pickle\n",
    "\n",
    "from sklearn.linear_model import LinearRegression\n",
    "from sklearn.cross_validation import train_test_split\n",
    "from outlier_cleaner import outlierCleaner\n",
    "\n",
    "### load up some practice data with outliers in it\n",
    "ages = pickle.load( open(\"practice_outliers_ages.pkl\", \"r\") )\n",
    "net_worths = pickle.load( open(\"practice_outliers_net_worths.pkl\", \"r\") )"
   ]
  },
  {
   "cell_type": "code",
   "execution_count": 2,
   "metadata": {
    "collapsed": true
   },
   "outputs": [],
   "source": [
    "### ages and net_worths need to be reshaped into 2D numpy arrays\n",
    "### second argument of reshape command is a tuple of integers: (n_rows, n_columns)\n",
    "### by convention, n_rows is the number of data points\n",
    "### and n_columns is the number of features\n",
    "ages       = numpy.reshape( numpy.array(ages), (len(ages), 1))\n",
    "net_worths = numpy.reshape( numpy.array(net_worths), (len(net_worths), 1))\n",
    "ages_train, ages_test, net_worths_train, net_worths_test = train_test_split(ages, net_worths, test_size=0.1, random_state=42)"
   ]
  },
  {
   "cell_type": "code",
   "execution_count": 3,
   "metadata": {
    "collapsed": false
   },
   "outputs": [
    {
     "name": "stdout",
     "output_type": "stream",
     "text": [
      "Slope of the regression 5.07793064344\n"
     ]
    }
   ],
   "source": [
    "reg = LinearRegression()\n",
    "reg.fit(ages_train, net_worths_train)\n",
    "print \"Slope of the regression\", reg.coef_[0][0]"
   ]
  },
  {
   "cell_type": "code",
   "execution_count": 5,
   "metadata": {
    "collapsed": false,
    "scrolled": false
   },
   "outputs": [
    {
     "name": "stdout",
     "output_type": "stream",
     "text": [
      "Score of the regression is 0.878262470366\n"
     ]
    }
   ],
   "source": [
    "print \"Score of the regression is\", reg.score(ages_test, net_worths_test)"
   ]
  },
  {
   "cell_type": "markdown",
   "metadata": {},
   "source": [
    "### After cleaning up outliers\n",
    "Modifying code from `outlier_cleaner.py`"
   ]
  },
  {
   "cell_type": "code",
   "execution_count": 90,
   "metadata": {
    "collapsed": true
   },
   "outputs": [],
   "source": [
    "def outlierCleaner(predictions, X, Y):\n",
    "    \"\"\"\n",
    "        Clean away the 10% of points that have the largest\n",
    "        residual errors (difference between the prediction\n",
    "        and the actual net worth).\n",
    "\n",
    "        Return a list of tuples named cleaned_data where \n",
    "        each tuple is of the form (X, Y, error).\n",
    "    \"\"\"\n",
    "    \n",
    "    cleaned_data = []\n",
    "\n",
    "    length = len(X)\n",
    "    \n",
    "    residuals = []\n",
    "    for i, prediction in enumerate(predictions):\n",
    "        residuals.append(abs(prediction - Y[i]))\n",
    "    \n",
    "    \n",
    "    data = zip(X, Y, residuals)\n",
    "    \n",
    "    residuals.sort()\n",
    "    residuals.reverse()\n",
    "    \n",
    "    remove_num = length / 10\n",
    "    \n",
    "    res_remove = residuals[:remove_num]\n",
    "    \n",
    "    for i in range(len(data)-1):\n",
    "        if i > len(data) - 1:\n",
    "            break\n",
    "        if data[i][2] in res_remove:\n",
    "            data.pop(i)\n",
    "\n",
    "    return cleaned_data"
   ]
  },
  {
   "cell_type": "code",
   "execution_count": 6,
   "metadata": {
    "collapsed": false
   },
   "outputs": [],
   "source": [
    "predictions = reg.predict(ages_train)\n",
    "cleaned_data = outlierCleaner(predictions, ages_train, net_worths_train)"
   ]
  },
  {
   "cell_type": "code",
   "execution_count": 91,
   "metadata": {
    "collapsed": false
   },
   "outputs": [
    {
     "name": "stdout",
     "output_type": "stream",
     "text": [
      "90\n",
      "3\n",
      "(array([57]), array([ 338.08951849]), array([ 23.43745027]))\n"
     ]
    },
    {
     "data": {
      "text/plain": [
       "[]"
      ]
     },
     "execution_count": 91,
     "metadata": {},
     "output_type": "execute_result"
    }
   ],
   "source": []
  },
  {
   "cell_type": "markdown",
   "metadata": {
    "collapsed": false
   },
   "source": [
    "## Enron Data\n",
    "Returning to the bonuses-salary regression from before. "
   ]
  },
  {
   "cell_type": "code",
   "execution_count": 7,
   "metadata": {
    "collapsed": false
   },
   "outputs": [],
   "source": [
    "import sys\n",
    "sys.path.append(\"../tools/\")\n",
    "from feature_format import featureFormat, targetFeatureSplit\n",
    "\n",
    "\n",
    "### read in data dictionary, convert to numpy array\n",
    "data_dict = pickle.load( open(\"../final_project/final_project_dataset.pkl\", \"r\") )\n",
    "features_list = [\"salary\", \"bonus\"]\n",
    "data = featureFormat(data_dict, features_list)"
   ]
  },
  {
   "cell_type": "code",
   "execution_count": 18,
   "metadata": {
    "collapsed": false
   },
   "outputs": [
    {
     "data": {
      "image/png": "[encoded data removed]",
      "text/plain": [
       "<matplotlib.figure.Figure at 0x7f3e59d115d0>"
      ]
     },
     "metadata": {},
     "output_type": "display_data"
    }
   ],
   "source": [
    "# Plot scatterplot of data\n",
    "def plt_scatterplot(data):\n",
    "    for point in data:\n",
    "        salary = point[0]\n",
    "        bonus = point[1]\n",
    "        plt.scatter(salary, bonus)\n",
    "    plt.xlabel('Salary')\n",
    "    plt.ylabel('Bonus')\n",
    "    plt.show()\n",
    "plt_scatterplot(data)"
   ]
  },
  {
   "cell_type": "code",
   "execution_count": 17,
   "metadata": {
    "collapsed": false
   },
   "outputs": [
    {
     "name": "stdout",
     "output_type": "stream",
     "text": [
      "TOTAL has a big salary\n"
     ]
    }
   ],
   "source": [
    "# Find the reason for this outlier\n",
    "for name, person in data_dict.items():\n",
    "    if isinstance(person['salary'], int) and person['salary'] > 10000000:\n",
    "        print name, \"has a big salary\""
   ]
  },
  {
   "cell_type": "code",
   "execution_count": 19,
   "metadata": {
    "collapsed": false
   },
   "outputs": [
    {
     "data": {
      "image/png": "[encoded data removed]",
      "text/plain": [
       "<matplotlib.figure.Figure at 0x7f3e59d111d0>"
      ]
     },
     "metadata": {},
     "output_type": "display_data"
    }
   ],
   "source": [
    "# Remove TOTAL outlier\n",
    "data_dict.pop(\"TOTAL\",0)\n",
    "features_list = [\"salary\", \"bonus\"]\n",
    "data = featureFormat(data_dict, features_list)\n",
    "plt_scatterplot(data)"
   ]
  },
  {
   "cell_type": "code",
   "execution_count": 20,
   "metadata": {
    "collapsed": false
   },
   "outputs": [
    {
     "name": "stdout",
     "output_type": "stream",
     "text": [
      "LAY KENNETH L made out like a bandit with a salary of $ 1072321 and a bonus of $ 7000000\n",
      "SKILLING JEFFREY K made out like a bandit with a salary of $ 1111258 and a bonus of $ 5600000\n",
      "FREVERT MARK A made out like a bandit with a salary of $ 1060932 and a bonus of $ 2000000\n"
     ]
    }
   ],
   "source": [
    "# Find other people who \"made out like bandits\"\n",
    "for name, person in data_dict.items():\n",
    "    if (isinstance(person['salary'], int) and person['salary'] > 1000000) and (isinstance(person['bonus'], int) and person['bonus'] > 1000000):\n",
    "        print name, \"made out like a bandit with a salary of $\", person['salary'], \"and a bonus of $\", person['bonus']"
   ]
  }
 ],
 "metadata": {
  "kernelspec": {
   "display_name": "Python 2",
   "language": "python",
   "name": "python2"
  },
  "language_info": {
   "codemirror_mode": {
    "name": "ipython",
    "version": 2
   },
   "file_extension": ".py",
   "mimetype": "text/x-python",
   "name": "python",
   "nbconvert_exporter": "python",
   "pygments_lexer": "ipython2",
   "version": "2.7.12"
  }
 },
 "nbformat": 4,
 "nbformat_minor": 2
}
