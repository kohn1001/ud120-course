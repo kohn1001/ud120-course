{
 "cells": [
  {
   "cell_type": "markdown",
   "metadata": {},
   "source": [
    "# Feature Selection"
   ]
  },
  {
   "cell_type": "markdown",
   "metadata": {},
   "source": [
    "## A new Enron Feature Quiz\n",
    "Using `poi_flag_email.py` and `studentMain.py` but standing by, since `reader.py` was inaccessible"
   ]
  },
  {
   "cell_type": "code",
   "execution_count": null,
   "metadata": {
    "collapsed": true
   },
   "outputs": [],
   "source": [
    "import sys\n",
    "import reader\n",
    "sys.path.append('../final_project/')\n",
    "import poi_email_addresses as poi_emails\n",
    "import os\n",
    "import zipfile\n",
    "\n",
    "def getToFromStrings(f):\n",
    "    '''\n",
    "    The imported reader.py file contains functions that we've created to help\n",
    "    parse e-mails from the corpus. .getAddresses() reads in the opening lines\n",
    "    of an e-mail to find the To: From: and CC: strings, while the\n",
    "    .parseAddresses() line takes each string and extracts the e-mail addresses\n",
    "    as a list.\n",
    "    '''\n",
    "    f.seek(0)\n",
    "    to_string, from_string, cc_string   = reader.getAddresses(f)\n",
    "    to_emails   = reader.parseAddresses( to_string )\n",
    "    from_emails = reader.parseAddresses( from_string )\n",
    "    cc_emails   = reader.parseAddresses( cc_string )\n",
    "\n",
    "    return to_emails, from_emails, cc_emails\n",
    "\n",
    "\n",
    "### POI flag an email\n",
    "\n",
    "def poiFlagEmail(f):\n",
    "    \"\"\" given an email file f,\n",
    "        return a trio of booleans for whether that email is\n",
    "        to, from, or cc'ing a poi \"\"\"\n",
    "\n",
    "    to_emails, from_emails, cc_emails = getToFromStrings(f)\n",
    "\n",
    "    ### poi_emails.poiEmails() returns a list of all POIs' email addresses.\n",
    "    poi_email_list = poi_emails.poiEmails()\n",
    "\n",
    "    to_poi = False\n",
    "    from_poi = False\n",
    "    cc_poi   = False\n",
    "\n",
    "    ### to_poi and cc_poi are related functions, which flag whether\n",
    "    ### the email under inspection is addressed to a POI, or if a POI is in cc\n",
    "    ### you don't have to change this code at all\n",
    "\n",
    "    ### there can be many \"to\" emails, but only one \"from\", so the\n",
    "    ### \"to\" processing needs to be a little more complicated\n",
    "    if to_emails:\n",
    "        ctr = 0\n",
    "        while not to_poi and ctr < len(to_emails):\n",
    "            if to_emails[ctr] in poi_email_list:\n",
    "                to_poi = True\n",
    "            ctr += 1\n",
    "    if cc_emails:\n",
    "        ctr = 0\n",
    "        while not to_poi and ctr < len(cc_emails):\n",
    "            if cc_emails[ctr] in poi_email_list:\n",
    "                cc_poi = True\n",
    "            ctr += 1\n",
    "\n",
    "\n",
    "    #################################\n",
    "    ######## your code below ########\n",
    "    ### set from_poi to True if #####\n",
    "    ### the email is from a POI #####\n",
    "    #################################\n",
    "\n",
    "    \n",
    "    \n",
    "    \n",
    "\n",
    "    #################################\n",
    "    return to_poi, from_poi, cc_poi"
   ]
  },
  {
   "cell_type": "markdown",
   "metadata": {},
   "source": [
    "## Visualizing your new feature\n",
    "Using `studentCode.py`"
   ]
  },
  {
   "cell_type": "code",
   "execution_count": 3,
   "metadata": {
    "collapsed": true
   },
   "outputs": [],
   "source": [
    "import pickle\n",
    "from get_data import getData"
   ]
  },
  {
   "cell_type": "code",
   "execution_count": 6,
   "metadata": {
    "collapsed": true
   },
   "outputs": [
    {
     "data": {
      "text/plain": [
       "{'ALLEN PHILLIP K': {'from_poi_to_this_person': 0.016195727084769126,\n",
       "  'from_this_person_to_poi': 0.029612756264236904},\n",
       " 'BADUM JAMES P': {'from_poi_to_this_person': 0.0,\n",
       "  'from_this_person_to_poi': 0.0},\n",
       " 'BANNANTINE JAMES M': {'from_poi_to_this_person': 0.06890459363957598,\n",
       "  'from_this_person_to_poi': 0.0},\n",
       " 'BAXTER JOHN C': {'from_poi_to_this_person': 0.0,\n",
       "  'from_this_person_to_poi': 0.0},\n",
       " 'BAY FRANKLIN R': {'from_poi_to_this_person': 0.0,\n",
       "  'from_this_person_to_poi': 0.0},\n",
       " 'BAZELIDES PHILIP J': {'from_poi_to_this_person': 0.0,\n",
       "  'from_this_person_to_poi': 0.0},\n",
       " 'BECK SALLY W': {'from_poi_to_this_person': 0.01968557758031442,\n",
       "  'from_this_person_to_poi': 0.08887865530739121},\n",
       " 'BELDEN TIMOTHY N': {'from_poi_to_this_person': 0.028532098610937303,\n",
       "  'from_this_person_to_poi': 0.2231404958677686},\n",
       " 'BELFER ROBERT': {'from_poi_to_this_person': 0.0,\n",
       "  'from_this_person_to_poi': 0.0},\n",
       " 'BERBERIAN DAVID': {'from_poi_to_this_person': 0.0,\n",
       "  'from_this_person_to_poi': 0.0},\n",
       " 'BERGSIEKER RICHARD P': {'from_poi_to_this_person': 0.010443864229765013,\n",
       "  'from_this_person_to_poi': 0.0},\n",
       " 'BHATNAGAR SANJAY': {'from_poi_to_this_person': 0.0,\n",
       "  'from_this_person_to_poi': 0.034482758620689655},\n",
       " 'BIBI PHILIPPE A': {'from_poi_to_this_person': 0.01431238332296204,\n",
       "  'from_this_person_to_poi': 0.2},\n",
       " 'BLACHMAN JEREMY M': {'from_poi_to_this_person': 0.010101010101010102,\n",
       "  'from_this_person_to_poi': 0.14285714285714285},\n",
       " 'BLAKE JR. NORMAN P': {'from_poi_to_this_person': 0.0,\n",
       "  'from_this_person_to_poi': 0.0},\n",
       " 'BOWEN JR RAYMOND M': {'from_poi_to_this_person': 0.07534983853606028,\n",
       "  'from_this_person_to_poi': 0.5555555555555556},\n",
       " 'BROWN MICHAEL': {'from_poi_to_this_person': 0.008748317631224764,\n",
       "  'from_this_person_to_poi': 0.024390243902439025},\n",
       " 'BUCHANAN HAROLD G': {'from_poi_to_this_person': 0.0,\n",
       "  'from_this_person_to_poi': 0.0},\n",
       " 'BUTTS ROBERT H': {'from_poi_to_this_person': 0.0,\n",
       "  'from_this_person_to_poi': 0.0},\n",
       " 'BUY RICHARD B': {'from_poi_to_this_person': 0.04428044280442804,\n",
       "  'from_this_person_to_poi': 0.06742640075973409},\n",
       " 'CALGER CHRISTOPHER F': {'from_poi_to_this_person': 0.07659738260200154,\n",
       "  'from_this_person_to_poi': 0.1736111111111111},\n",
       " 'CARTER REBECCA C': {'from_poi_to_this_person': 0.09294871794871795,\n",
       "  'from_this_person_to_poi': 0.4666666666666667},\n",
       " 'CAUSEY RICHARD A': {'from_poi_to_this_person': 0.0306553911205074,\n",
       "  'from_this_person_to_poi': 0.24489795918367346},\n",
       " 'CHAN RONNIE': {'from_poi_to_this_person': 0.0,\n",
       "  'from_this_person_to_poi': 0.0},\n",
       " 'CHRISTODOULOU DIOMEDES': {'from_poi_to_this_person': 0.0,\n",
       "  'from_this_person_to_poi': 0.0},\n",
       " 'CLINE KENNETH W': {'from_poi_to_this_person': 0.0,\n",
       "  'from_this_person_to_poi': 0.0},\n",
       " 'COLWELL WESLEY': {'from_poi_to_this_person': 0.13651877133105803,\n",
       "  'from_this_person_to_poi': 0.275},\n",
       " 'CORDES WILLIAM R': {'from_poi_to_this_person': 0.013089005235602094,\n",
       "  'from_this_person_to_poi': 0.0},\n",
       " 'COX DAVID': {'from_poi_to_this_person': 0.0,\n",
       "  'from_this_person_to_poi': 0.12121212121212122},\n",
       " 'CUMBERLAND MICHAEL S': {'from_poi_to_this_person': 0.0,\n",
       "  'from_this_person_to_poi': 0.0},\n",
       " 'DEFFNER JOSEPH M': {'from_poi_to_this_person': 0.16106442577030813,\n",
       "  'from_this_person_to_poi': 0.05405405405405406},\n",
       " 'DELAINEY DAVID W': {'from_poi_to_this_person': 0.02133850630455868,\n",
       "  'from_this_person_to_poi': 0.198435972629521},\n",
       " 'DERRICK JR. JAMES V': {'from_poi_to_this_person': 0.029344337459880788,\n",
       "  'from_this_person_to_poi': 0.022002200220022004},\n",
       " 'DETMERING TIMOTHY J': {'from_poi_to_this_person': 0.0,\n",
       "  'from_this_person_to_poi': 0.0},\n",
       " 'DIETRICH JANET R': {'from_poi_to_this_person': 0.11858475894245724,\n",
       "  'from_this_person_to_poi': 0.2222222222222222},\n",
       " 'DIMICHELE RICHARD G': {'from_poi_to_this_person': 0.0,\n",
       "  'from_this_person_to_poi': 0.0},\n",
       " 'DODSON KEITH': {'from_poi_to_this_person': 0.056818181818181816,\n",
       "  'from_this_person_to_poi': 0.21428571428571427},\n",
       " 'DONAHUE JR JEFFREY M': {'from_poi_to_this_person': 0.21734104046242775,\n",
       "  'from_this_person_to_poi': 0.5},\n",
       " 'DUNCAN JOHN H': {'from_poi_to_this_person': 0.0,\n",
       "  'from_this_person_to_poi': 0.0},\n",
       " 'DURAN WILLIAM D': {'from_poi_to_this_person': 0.1172566371681416,\n",
       "  'from_this_person_to_poi': 0.25},\n",
       " 'ECHOLS JOHN B': {'from_poi_to_this_person': 0.0,\n",
       "  'from_this_person_to_poi': 0.0},\n",
       " 'ELLIOTT STEVEN': {'from_poi_to_this_person': 0.0,\n",
       "  'from_this_person_to_poi': 0.0},\n",
       " 'FALLON JAMES B': {'from_poi_to_this_person': 0.023931623931623933,\n",
       "  'from_this_person_to_poi': 0.49333333333333335},\n",
       " 'FASTOW ANDREW S': {'from_poi_to_this_person': 0.0,\n",
       "  'from_this_person_to_poi': 0.0},\n",
       " 'FITZGERALD JAY L': {'from_poi_to_this_person': 0.0010683760683760685,\n",
       "  'from_this_person_to_poi': 0.5},\n",
       " 'FOWLER PEGGY': {'from_poi_to_this_person': 0.0,\n",
       "  'from_this_person_to_poi': 0.0},\n",
       " 'FOY JOE': {'from_poi_to_this_person': 0.0, 'from_this_person_to_poi': 0.0},\n",
       " 'FREVERT MARK A': {'from_poi_to_this_person': 0.07389312977099237,\n",
       "  'from_this_person_to_poi': 0.2857142857142857},\n",
       " 'FUGH JOHN L': {'from_poi_to_this_person': 0.0,\n",
       "  'from_this_person_to_poi': 0.0},\n",
       " 'GAHN ROBERT S': {'from_poi_to_this_person': 0.0,\n",
       "  'from_this_person_to_poi': 0.0},\n",
       " 'GARLAND C KEVIN': {'from_poi_to_this_person': 0.04784688995215311,\n",
       "  'from_this_person_to_poi': 0.6136363636363636},\n",
       " 'GATHMANN WILLIAM D': {'from_poi_to_this_person': 0.0,\n",
       "  'from_this_person_to_poi': 0.0},\n",
       " 'GIBBS DANA R': {'from_poi_to_this_person': 0.0,\n",
       "  'from_this_person_to_poi': 0.0},\n",
       " 'GILLIS JOHN': {'from_poi_to_this_person': 0.0,\n",
       "  'from_this_person_to_poi': 0.0},\n",
       " 'GLISAN JR BEN F': {'from_poi_to_this_person': 0.05956471935853379,\n",
       "  'from_this_person_to_poi': 0.375},\n",
       " 'GOLD JOSEPH': {'from_poi_to_this_person': 0.0,\n",
       "  'from_this_person_to_poi': 0.0},\n",
       " 'GRAMM WENDY L': {'from_poi_to_this_person': 0.0,\n",
       "  'from_this_person_to_poi': 0.0},\n",
       " 'GRAY RODNEY': {'from_poi_to_this_person': 0.0,\n",
       "  'from_this_person_to_poi': 0.0},\n",
       " 'HAEDICKE MARK E': {'from_poi_to_this_person': 0.04489897730107259,\n",
       "  'from_this_person_to_poi': 0.03142709943328181},\n",
       " 'HANNON KEVIN P': {'from_poi_to_this_person': 0.03062200956937799,\n",
       "  'from_this_person_to_poi': 0.65625},\n",
       " 'HAUG DAVID L': {'from_poi_to_this_person': 0.006980802792321117,\n",
       "  'from_this_person_to_poi': 0.3684210526315789},\n",
       " 'HAYES ROBERT E': {'from_poi_to_this_person': 0.031746031746031744,\n",
       "  'from_this_person_to_poi': 0.0},\n",
       " 'HAYSLETT RODERICK J': {'from_poi_to_this_person': 0.01321253303133258,\n",
       "  'from_this_person_to_poi': 0.03581526861451461},\n",
       " 'HERMANN ROBERT J': {'from_poi_to_this_person': 0.0,\n",
       "  'from_this_person_to_poi': 0.0},\n",
       " 'HICKERSON GARY J': {'from_poi_to_this_person': 0.030303030303030304,\n",
       "  'from_this_person_to_poi': 0.037037037037037035},\n",
       " 'HIRKO JOSEPH': {'from_poi_to_this_person': 0.0,\n",
       "  'from_this_person_to_poi': 0.0},\n",
       " 'HORTON STANLEY C': {'from_poi_to_this_person': 0.01872340425531915,\n",
       "  'from_this_person_to_poi': 0.013979496738117428},\n",
       " 'HUGHES JAMES A': {'from_poi_to_this_person': 0.048678720445062586,\n",
       "  'from_this_person_to_poi': 0.14705882352941177},\n",
       " 'HUMPHREY GENE E': {'from_poi_to_this_person': 0.078125,\n",
       "  'from_this_person_to_poi': 1.0},\n",
       " 'IZZO LAWRENCE L': {'from_poi_to_this_person': 0.056451612903225805,\n",
       "  'from_this_person_to_poi': 0.2631578947368421},\n",
       " 'JACKSON CHARLENE R': {'from_poi_to_this_person': 0.09689922480620156,\n",
       "  'from_this_person_to_poi': 0.3392857142857143},\n",
       " 'JAEDICKE ROBERT': {'from_poi_to_this_person': 0.0,\n",
       "  'from_this_person_to_poi': 0.0},\n",
       " 'KAMINSKI WINCENTY J': {'from_poi_to_this_person': 0.008899500759713479,\n",
       "  'from_this_person_to_poi': 0.011901447661469933},\n",
       " 'KEAN STEVEN J': {'from_poi_to_this_person': 0.010976948408342482,\n",
       "  'from_this_person_to_poi': 0.05725699067909454},\n",
       " 'KISHKILL JOSEPH G': {'from_poi_to_this_person': 0.0,\n",
       "  'from_this_person_to_poi': 0.0},\n",
       " 'KITCHEN LOUISE': {'from_poi_to_this_person': 0.030222757375075255,\n",
       "  'from_this_person_to_poi': 0.11226851851851852},\n",
       " 'KOENIG MARK E': {'from_poi_to_this_person': 0.02232518955349621,\n",
       "  'from_this_person_to_poi': 0.2459016393442623},\n",
       " 'KOPPER MICHAEL J': {'from_poi_to_this_person': 0.0,\n",
       "  'from_this_person_to_poi': 0.0},\n",
       " 'LAVORATO JOHN J': {'from_poi_to_this_person': 0.07273729163796666,\n",
       "  'from_this_person_to_poi': 0.15899419729206962},\n",
       " 'LAY KENNETH L': {'from_poi_to_this_person': 0.028785396676807865,\n",
       "  'from_this_person_to_poi': 0.4444444444444444},\n",
       " 'LEFF DANIEL P': {'from_poi_to_this_person': 0.02374202693125443,\n",
       "  'from_this_person_to_poi': 0.2222222222222222},\n",
       " 'LEMAISTRE CHARLES': {'from_poi_to_this_person': 0.0,\n",
       "  'from_this_person_to_poi': 0.0},\n",
       " 'LEWIS RICHARD': {'from_poi_to_this_person': 0.01050420168067227,\n",
       "  'from_this_person_to_poi': 0.0},\n",
       " 'LINDHOLM TOD A': {'from_poi_to_this_person': 0.0,\n",
       "  'from_this_person_to_poi': 0.0},\n",
       " 'LOCKHART EUGENE E': {'from_poi_to_this_person': 0.0,\n",
       "  'from_this_person_to_poi': 0.0},\n",
       " 'LOWRY CHARLES P': {'from_poi_to_this_person': 0.0,\n",
       "  'from_this_person_to_poi': 0.0},\n",
       " 'MARTIN AMANDA K': {'from_poi_to_this_person': 0.005256241787122208,\n",
       "  'from_this_person_to_poi': 0.0},\n",
       " 'MCCARTY DANNY J': {'from_poi_to_this_person': 0.017445917655268667,\n",
       "  'from_this_person_to_poi': 0.009302325581395349},\n",
       " 'MCCLELLAN GEORGE': {'from_poi_to_this_person': 0.02981651376146789,\n",
       "  'from_this_person_to_poi': 0.0},\n",
       " 'MCCONNELL MICHAEL S': {'from_poi_to_this_person': 0.02763592670471613,\n",
       "  'from_this_person_to_poi': 0.07075127644055434},\n",
       " 'MCDONALD REBECCA': {'from_poi_to_this_person': 0.06040268456375839,\n",
       "  'from_this_person_to_poi': 0.07692307692307693},\n",
       " 'MCMAHON JEFFREY': {'from_poi_to_this_person': 0.024628450106157114,\n",
       "  'from_this_person_to_poi': 0.5416666666666666},\n",
       " 'MENDELSOHN JOHN': {'from_poi_to_this_person': 0.0,\n",
       "  'from_this_person_to_poi': 0.0},\n",
       " 'METTS MARK': {'from_poi_to_this_person': 0.04708798017348203,\n",
       "  'from_this_person_to_poi': 0.034482758620689655},\n",
       " 'MEYER JEROME J': {'from_poi_to_this_person': 0.0,\n",
       "  'from_this_person_to_poi': 0.0},\n",
       " 'MEYER ROCKFORD G': {'from_poi_to_this_person': 0.0,\n",
       "  'from_this_person_to_poi': 0.0},\n",
       " 'MORAN MICHAEL P': {'from_poi_to_this_person': 0.0,\n",
       "  'from_this_person_to_poi': 0.0},\n",
       " 'MORDAUNT KRISTINA M': {'from_poi_to_this_person': 0.0,\n",
       "  'from_this_person_to_poi': 0.0},\n",
       " 'MULLER MARK S': {'from_poi_to_this_person': 0.08823529411764706,\n",
       "  'from_this_person_to_poi': 0.0},\n",
       " 'MURRAY JULIA H': {'from_poi_to_this_person': 0.005018248175182482,\n",
       "  'from_this_person_to_poi': 0.044444444444444446},\n",
       " 'NOLES JAMES L': {'from_poi_to_this_person': 0.0,\n",
       "  'from_this_person_to_poi': 0.0},\n",
       " 'OLSON CINDY K': {'from_poi_to_this_person': 0.016891891891891893,\n",
       "  'from_this_person_to_poi': 0.28846153846153844},\n",
       " 'OVERDYKE JR JERE C': {'from_poi_to_this_person': 0.0,\n",
       "  'from_this_person_to_poi': 0.0},\n",
       " 'PAI LOU L': {'from_poi_to_this_person': 0.0, 'from_this_person_to_poi': 0.0},\n",
       " 'PEREIRA PAULO V. FERRAZ': {'from_poi_to_this_person': 0.0,\n",
       "  'from_this_person_to_poi': 0.0},\n",
       " 'PICKERING MARK R': {'from_poi_to_this_person': 0.0077951002227171495,\n",
       "  'from_this_person_to_poi': 0.0},\n",
       " 'PIPER GREGORY F': {'from_poi_to_this_person': 0.049273021001615507,\n",
       "  'from_this_person_to_poi': 0.21621621621621623},\n",
       " 'PIRO JIM': {'from_poi_to_this_person': 0.0,\n",
       "  'from_this_person_to_poi': 0.0625},\n",
       " 'POWERS WILLIAM': {'from_poi_to_this_person': 0.0,\n",
       "  'from_this_person_to_poi': 0.0},\n",
       " 'PRENTICE JAMES': {'from_poi_to_this_person': 0.0,\n",
       "  'from_this_person_to_poi': 0.0},\n",
       " 'REDMOND BRIAN L': {'from_poi_to_this_person': 0.12208258527827648,\n",
       "  'from_this_person_to_poi': 0.22171945701357465},\n",
       " 'REYNOLDS LAWRENCE': {'from_poi_to_this_person': 0.0,\n",
       "  'from_this_person_to_poi': 0.0},\n",
       " 'RICE KENNETH D': {'from_poi_to_this_person': 0.04640883977900553,\n",
       "  'from_this_person_to_poi': 0.2222222222222222},\n",
       " 'RIEKER PAULA H': {'from_poi_to_this_person': 0.02635542168674699,\n",
       "  'from_this_person_to_poi': 0.5853658536585366},\n",
       " 'SAVAGE FRANK': {'from_poi_to_this_person': 0.0,\n",
       "  'from_this_person_to_poi': 0.0},\n",
       " 'SCRIMSHAW MATTHEW': {'from_poi_to_this_person': 0.0,\n",
       "  'from_this_person_to_poi': 0.0},\n",
       " 'SHANKMAN JEFFREY A': {'from_poi_to_this_person': 0.029183483390251473,\n",
       "  'from_this_person_to_poi': 0.030958597538232},\n",
       " 'SHAPIRO RICHARD S': {'from_poi_to_this_person': 0.0048848108786058485,\n",
       "  'from_this_person_to_poi': 0.053497942386831275},\n",
       " 'SHARP VICTORIA T': {'from_poi_to_this_person': 0.007653061224489796,\n",
       "  'from_this_person_to_poi': 0.04411764705882353},\n",
       " 'SHELBY REX': {'from_poi_to_this_person': 0.057777777777777775,\n",
       "  'from_this_person_to_poi': 0.358974358974359},\n",
       " 'SHERRICK JEFFREY B': {'from_poi_to_this_person': 0.0636215334420881,\n",
       "  'from_this_person_to_poi': 0.72},\n",
       " 'SHERRIFF JOHN R': {'from_poi_to_this_person': 0.008785691873235017,\n",
       "  'from_this_person_to_poi': 0.25},\n",
       " 'SKILLING JEFFREY K': {'from_poi_to_this_person': 0.0242624758753791,\n",
       "  'from_this_person_to_poi': 0.2777777777777778},\n",
       " 'STABLER FRANK': {'from_poi_to_this_person': 0.0,\n",
       "  'from_this_person_to_poi': 0.0},\n",
       " 'SULLIVAN-SHAKLOVITZ COLLEEN': {'from_poi_to_this_person': 0.0,\n",
       "  'from_this_person_to_poi': 0.0},\n",
       " 'SUNDE MARTIN': {'from_poi_to_this_person': 0.013978088401964487,\n",
       "  'from_this_person_to_poi': 0.34210526315789475},\n",
       " 'TAYLOR MITCHELL S': {'from_poi_to_this_person': 0.0,\n",
       "  'from_this_person_to_poi': 0.0},\n",
       " 'THE TRAVEL AGENCY IN THE PARK': {'from_poi_to_this_person': 0.0,\n",
       "  'from_this_person_to_poi': 0.0},\n",
       " 'THORN TERENCE H': {'from_poi_to_this_person': 0.0,\n",
       "  'from_this_person_to_poi': 0.0},\n",
       " 'TILNEY ELIZABETH A': {'from_poi_to_this_person': 0.021739130434782608,\n",
       "  'from_this_person_to_poi': 0.5789473684210527},\n",
       " 'TOTAL': {'from_poi_to_this_person': 0.0, 'from_this_person_to_poi': 0.0},\n",
       " 'UMANOFF ADAM S': {'from_poi_to_this_person': 0.10810810810810811,\n",
       "  'from_this_person_to_poi': 0.0},\n",
       " 'URQUHART JOHN A': {'from_poi_to_this_person': 0.0,\n",
       "  'from_this_person_to_poi': 0.0},\n",
       " 'WAKEHAM JOHN': {'from_poi_to_this_person': 0.0,\n",
       "  'from_this_person_to_poi': 0.0},\n",
       " 'WALLS JR ROBERT H': {'from_poi_to_this_person': 0.02533532041728763,\n",
       "  'from_this_person_to_poi': 0.0},\n",
       " 'WALTERS GARETH W': {'from_poi_to_this_person': 0.0,\n",
       "  'from_this_person_to_poi': 0.0},\n",
       " 'WASAFF GEORGE': {'from_poi_to_this_person': 0.055,\n",
       "  'from_this_person_to_poi': 0.23333333333333334},\n",
       " 'WESTFAHL RICHARD K': {'from_poi_to_this_person': 0.0,\n",
       "  'from_this_person_to_poi': 0.0},\n",
       " 'WHALEY DAVID A': {'from_poi_to_this_person': 0.0,\n",
       "  'from_this_person_to_poi': 0.0},\n",
       " 'WHALLEY LAWRENCE G': {'from_poi_to_this_person': 0.03090214321315833,\n",
       "  'from_this_person_to_poi': 0.04316546762589928},\n",
       " 'WHITE JR THOMAS E': {'from_poi_to_this_person': 0.0,\n",
       "  'from_this_person_to_poi': 0.0},\n",
       " 'WINOKUR JR. HERBERT S': {'from_poi_to_this_person': 0.0,\n",
       "  'from_this_person_to_poi': 0.0},\n",
       " 'WODRASKA JOHN': {'from_poi_to_this_person': 0.0,\n",
       "  'from_this_person_to_poi': 0.0},\n",
       " 'WROBEL BRUCE': {'from_poi_to_this_person': 0.0,\n",
       "  'from_this_person_to_poi': 0.0},\n",
       " 'YEAGER F SCOTT': {'from_poi_to_this_person': 0.0,\n",
       "  'from_this_person_to_poi': 0.0},\n",
       " 'YEAP SOON': {'from_poi_to_this_person': 0.0, 'from_this_person_to_poi': 0.0}}"
      ]
     },
     "execution_count": 6,
     "metadata": {},
     "output_type": "execute_result"
    }
   ],
   "source": [
    "def computeFraction( poi_messages, all_messages ):\n",
    "    \"\"\" given a number messages to/from POI (numerator) \n",
    "        and number of all messages to/from a person (denominator),\n",
    "        return the fraction of messages to/from that person\n",
    "        that are from/to a POI\n",
    "   \"\"\"\n",
    "\n",
    "\n",
    "    ### you fill in this code, so that it returns either\n",
    "    ###     the fraction of all messages to this person that come from POIs\n",
    "    ###     or\n",
    "    ###     the fraction of all messages from this person that are sent to POIs\n",
    "    ### the same code can be used to compute either quantity\n",
    "\n",
    "    ### beware of \"NaN\" when there is no known email address (and so\n",
    "    ### no filled email features), and integer division!\n",
    "    ### in case of poi_messages or all_messages having \"NaN\" value, return 0.\n",
    "    fraction = 0.\n",
    "\n",
    "    if poi_messages == 'NaN' or all_messages == 'NaN':\n",
    "        return fraction\n",
    "    \n",
    "    fraction = 1.0 * poi_messages / all_messages\n",
    "\n",
    "\n",
    "    return fraction\n",
    "\n",
    "\n",
    "data_dict = getData() \n",
    "\n",
    "submit_dict = {}\n",
    "for name in data_dict:\n",
    "\n",
    "    data_point = data_dict[name]\n",
    "\n",
    "#     print\n",
    "    from_poi_to_this_person = data_point[\"from_poi_to_this_person\"]\n",
    "    to_messages = data_point[\"to_messages\"]\n",
    "    fraction_from_poi = computeFraction( from_poi_to_this_person, to_messages )\n",
    "#     print fraction_from_poi\n",
    "    data_point[\"fraction_from_poi\"] = fraction_from_poi\n",
    "\n",
    "\n",
    "    from_this_person_to_poi = data_point[\"from_this_person_to_poi\"]\n",
    "    from_messages = data_point[\"from_messages\"]\n",
    "    fraction_to_poi = computeFraction( from_this_person_to_poi, from_messages )\n",
    "#     print fraction_to_poi\n",
    "    submit_dict[name]={\"from_poi_to_this_person\":fraction_from_poi,\n",
    "                       \"from_this_person_to_poi\":fraction_to_poi}\n",
    "    data_point[\"fraction_to_poi\"] = fraction_to_poi\n",
    "    \n",
    "    \n",
    "#####################\n",
    "submit_dict"
   ]
  },
  {
   "cell_type": "markdown",
   "metadata": {},
   "source": [
    "## Feature Selection Mini-Project\n",
    "Running a decision tree on the emails data"
   ]
  },
  {
   "cell_type": "code",
   "execution_count": 7,
   "metadata": {
    "collapsed": true
   },
   "outputs": [],
   "source": [
    "#imports \n",
    "import pickle\n",
    "import numpy\n",
    "numpy.random.seed(42)"
   ]
  },
  {
   "cell_type": "code",
   "execution_count": 8,
   "metadata": {
    "collapsed": true
   },
   "outputs": [],
   "source": [
    "### The words (features) and authors (labels), already largely processed.\n",
    "### These files should have been created from the previous (Lesson 10)\n",
    "### mini-project.\n",
    "words_file = \"../text_learning/your_word_data.pkl\" \n",
    "authors_file = \"../text_learning/your_email_authors.pkl\"\n",
    "word_data = pickle.load( open(words_file, \"r\"))\n",
    "authors = pickle.load( open(authors_file, \"r\") )"
   ]
  },
  {
   "cell_type": "code",
   "execution_count": 9,
   "metadata": {
    "collapsed": false
   },
   "outputs": [
    {
     "name": "stderr",
     "output_type": "stream",
     "text": [
      "/home/rad/ml_week_py2/local/lib/python2.7/site-packages/sklearn/cross_validation.py:44: DeprecationWarning: This module was deprecated in version 0.18 in favor of the model_selection module into which all the refactored classes and functions are moved. Also note that the interface of the new CV iterators are different from that of this module. This module will be removed in 0.20.\n",
      "  \"This module will be removed in 0.20.\", DeprecationWarning)\n"
     ]
    }
   ],
   "source": [
    "### test_size is the percentage of events assigned to the test set (the\n",
    "### remainder go into training)\n",
    "### feature matrices changed to dense representations for compatibility with\n",
    "### classifier functions in versions 0.15.2 and earlier\n",
    "from sklearn import cross_validation\n",
    "features_train, features_test, labels_train, labels_test = cross_validation.train_test_split(word_data, authors, test_size=0.1, random_state=42)\n",
    "\n",
    "from sklearn.feature_extraction.text import TfidfVectorizer\n",
    "vectorizer = TfidfVectorizer(sublinear_tf=True, max_df=0.5,\n",
    "                             stop_words='english')\n",
    "features_train = vectorizer.fit_transform(features_train)\n",
    "features_test  = vectorizer.transform(features_test).toarray()"
   ]
  },
  {
   "cell_type": "code",
   "execution_count": 10,
   "metadata": {
    "collapsed": true
   },
   "outputs": [],
   "source": [
    "### a classic way to overfit is to use a small number\n",
    "### of data points and a large number of features;\n",
    "### train on only 150 events to put ourselves in this regime\n",
    "features_train = features_train[:150].toarray()\n",
    "labels_train   = labels_train[:150]"
   ]
  },
  {
   "cell_type": "code",
   "execution_count": 13,
   "metadata": {
    "collapsed": true
   },
   "outputs": [],
   "source": [
    "from sklearn.tree import DecisionTreeClassifier\n",
    "from sklearn.metrics import accuracy_score"
   ]
  },
  {
   "cell_type": "code",
   "execution_count": 12,
   "metadata": {
    "collapsed": true
   },
   "outputs": [],
   "source": [
    "def classify(features_train, labels_train, min_samples_split = 40):\n",
    "    clf = DecisionTreeClassifier(min_samples_split=min_samples_split)\n",
    "    clf.fit(features_train, labels_train)\n",
    "    return clf"
   ]
  },
  {
   "cell_type": "code",
   "execution_count": 14,
   "metadata": {
    "collapsed": false
   },
   "outputs": [
    {
     "name": "stdout",
     "output_type": "stream",
     "text": [
      "Test accuracy is 0.947667804323\n"
     ]
    }
   ],
   "source": [
    "clf = classify(features_train, labels_train, min_samples_split=2)\n",
    "print \"Test accuracy is\", accuracy_score(clf.predict(features_test), labels_test)"
   ]
  },
  {
   "cell_type": "code",
   "execution_count": 17,
   "metadata": {
    "collapsed": false
   },
   "outputs": [
    {
     "name": "stdout",
     "output_type": "stream",
     "text": [
      "feature # 33614 has an importance of 0.764705882353\n"
     ]
    }
   ],
   "source": [
    "for i, imp in enumerate(clf.feature_importances_):\n",
    "    if imp > 0.2:\n",
    "        print \"feature #\", i, \"has an importance of\", imp"
   ]
  },
  {
   "cell_type": "code",
   "execution_count": 21,
   "metadata": {
    "collapsed": false
   },
   "outputs": [
    {
     "data": {
      "text/plain": [
       "u'sshacklensf'"
      ]
     },
     "execution_count": 21,
     "metadata": {},
     "output_type": "execute_result"
    }
   ],
   "source": [
    "vectorizer.get_feature_names()[33614]"
   ]
  },
  {
   "cell_type": "code",
   "execution_count": 22,
   "metadata": {
    "collapsed": true
   },
   "outputs": [],
   "source": [
    "#Removing 'sshacklensf' from word_data\n",
    "for i in range(len(word_data)):\n",
    "    word_data[i] = word_data[i].replace('sshacklensf','')"
   ]
  },
  {
   "cell_type": "code",
   "execution_count": 29,
   "metadata": {
    "collapsed": true
   },
   "outputs": [],
   "source": [
    "#Recreating data\n",
    "def get_data(word_data):\n",
    "    features_train, features_test, labels_train, labels_test = cross_validation.train_test_split(word_data, authors, test_size=0.1, random_state=42)\n",
    "\n",
    "    vectorizer = TfidfVectorizer(sublinear_tf=True, max_df=0.5,\n",
    "                                 stop_words='english')\n",
    "    return features_train, features_test, labels_train, labels_test    "
   ]
  },
  {
   "cell_type": "code",
   "execution_count": null,
   "metadata": {
    "collapsed": true
   },
   "outputs": [],
   "source": [
    "\n",
    "features_train = vectorizer.fit_transform(features_train)\n",
    "features_test  = vectorizer.transform(features_test).toarray()"
   ]
  },
  {
   "cell_type": "code",
   "execution_count": 25,
   "metadata": {
    "collapsed": false
   },
   "outputs": [
    {
     "name": "stdout",
     "output_type": "stream",
     "text": [
      "Test accuracy is 0.969283276451\n"
     ]
    }
   ],
   "source": [
    "features_train = features_train[:150].toarray()\n",
    "labels_train   = labels_train[:150]\n",
    "clf = classify(features_train, labels_train, min_samples_split=2)\n",
    "print \"Test accuracy is\", accuracy_score(clf.predict(features_test), labels_test)"
   ]
  },
  {
   "cell_type": "code",
   "execution_count": 26,
   "metadata": {
    "collapsed": false
   },
   "outputs": [
    {
     "name": "stdout",
     "output_type": "stream",
     "text": [
      "feature # 14343 has an importance of 0.666666666667\n"
     ]
    }
   ],
   "source": [
    "for i, imp in enumerate(clf.feature_importances_):\n",
    "    if imp > 0.2:\n",
    "        print \"feature #\", i, \"has an importance of\", imp"
   ]
  },
  {
   "cell_type": "code",
   "execution_count": null,
   "metadata": {
    "collapsed": true
   },
   "outputs": [],
   "source": [
    "print \"new outlier word is\", vectorizer.get_feature_names()[14343]"
   ]
  },
  {
   "cell_type": "code",
   "execution_count": null,
   "metadata": {
    "collapsed": true
   },
   "outputs": [],
   "source": [
    "#Rerunning again by taking out 'cgermannsf'\n",
    "for i in range(len(word_data)):\n",
    "    word_data[i] = word_data[i].replace('cgermannsf','')\n",
    "\n",
    "features_train, features_test, labels_train, labels_test = get_data(word_data)\n",
    "\n",
    "features_train = vectorizer.fit_transform(features_train)\n",
    "features_test  = vectorizer.transform(features_test).toarray()\n",
    "features_train = features_train[:150].toarray()\n",
    "labels_train   = labels_train[:150]\n",
    "clf = classify(features_train, labels_train, min_samples_split=2)"
   ]
  },
  {
   "cell_type": "code",
   "execution_count": 33,
   "metadata": {
    "collapsed": false
   },
   "outputs": [
    {
     "name": "stdout",
     "output_type": "stream",
     "text": [
      "Test accuracy is 0.813424345848\n",
      "feature 'houectect' has an importance of 0.363636363636\n"
     ]
    }
   ],
   "source": [
    "print \"Test accuracy is\", accuracy_score(clf.predict(features_test), labels_test)\n",
    "for i, imp in enumerate(clf.feature_importances_):\n",
    "    if imp > 0.2:\n",
    "        print \"feature '\"+ vectorizer.get_feature_names()[i] +\"' has an importance of\", imp"
   ]
  }
 ],
 "metadata": {
  "kernelspec": {
   "display_name": "Python 2",
   "language": "python",
   "name": "python2"
  },
  "language_info": {
   "codemirror_mode": {
    "name": "ipython",
    "version": 2
   },
   "file_extension": ".py",
   "mimetype": "text/x-python",
   "name": "python",
   "nbconvert_exporter": "python",
   "pygments_lexer": "ipython2",
   "version": "2.7.12"
  }
 },
 "nbformat": 4,
 "nbformat_minor": 2
}
